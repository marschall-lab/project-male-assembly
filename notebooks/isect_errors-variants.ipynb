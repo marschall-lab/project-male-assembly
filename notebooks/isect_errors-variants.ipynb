{
 "cells": [
  {
   "cell_type": "code",
   "execution_count": 40,
   "id": "22f50542",
   "metadata": {},
   "outputs": [],
   "source": [
    "import pandas as pd\n",
    "import pathlib as pl\n",
    "import io\n",
    "import shutil as sh\n",
    "\n",
    "error_dir = pl.Path(\"/home/ebertp/work/projects/sig_chry/error_annotations\")\n",
    "vc_dir = pl.Path(\"/home/ebertp/work/projects/sig_chry/variant_calls/PAV/freeze3/tsv\")\n",
    "\n",
    "def extract_tig_coords(row):\n",
    "    tig_name, coords = row[\"TIG_REGION\"].split(\":\")\n",
    "    start, end = coords.split(\"-\")\n",
    "    return tig_name, int(start), int(end)+1\n",
    "\n",
    "\n",
    "all_variants = []\n",
    "for vc_table in vc_dir.glob(\"*.tsv.gz\"):\n",
    "    df = pd.read_csv(vc_table, sep=\"\\t\", header=0)\n",
    "    df[[\"tig_name\", \"tig_start\", \"tig_end\"]] = df.apply(extract_tig_coords, result_type=\"expand\", axis=1)\n",
    "    df = df[[\"tig_name\", \"tig_start\", \"tig_end\", \"ID\", \"SVTYPE\", \"SVLEN\"]]\n",
    "    all_variants.append(df)\n",
    "    \n",
    "merged_variants = pd.concat(all_variants, axis=0, ignore_index=False)\n",
    "merged_variants.sort_values([\"tig_name\", \"tig_start\", \"tig_end\"], ascending=True, inplace=True)\n",
    "\n",
    "merged_variants.to_csv(vc_dir.parent.joinpath(\"all_variants.tsv\"), header=False, index=False, sep=\"\\t\")\n",
    "\n",
    "all_errors = []\n",
    "for error_table in error_dir.glob(\"*.errors.tsv\"):\n",
    "    sample = error_table.name.split(\".\")[0]\n",
    "    if sample in [\"SAMPLES\", \"NA24385\", \"HG03456\"]:\n",
    "        print(\"skipping \", sample)\n",
    "        continue\n",
    "    df = pd.read_csv(error_table, sep=\"\\t\", header=0)\n",
    "    all_errors.append(df)\n",
    "    \n",
    "all_errors = pd.concat(all_errors, axis=0, ignore_index=False)\n",
    "all_errors.sort_values([\"chrom\", \"start\", \"end\"], ascending=True, inplace=True)\n",
    "\n",
    "all_errors.to_csv(error_dir.parent.joinpath(\"all_errors.tsv\"), header=False, index=False, sep=\"\\t\")\n",
    "\n",
    "isect_dist = pl.Path(\"/home/ebertp/work/projects/sig_chry/intersect_dist.tsv\")\n",
    "\n",
    "df = pd.read_csv(isect_dist, sep=\"\\t\", header=None)\n",
    "print(df.head())\n",
    "print(df[13].describe())\n"
   ]
  }
 ],
 "metadata": {
  "kernelspec": {
   "display_name": "Python 3 (ipykernel)",
   "language": "python",
   "name": "python3"
  },
  "language_info": {
   "codemirror_mode": {
    "name": "ipython",
    "version": 3
   },
   "file_extension": ".py",
   "mimetype": "text/x-python",
   "name": "python",
   "nbconvert_exporter": "python",
   "pygments_lexer": "ipython3",
   "version": "3.8.13"
  }
 },
 "nbformat": 4,
 "nbformat_minor": 5
}
