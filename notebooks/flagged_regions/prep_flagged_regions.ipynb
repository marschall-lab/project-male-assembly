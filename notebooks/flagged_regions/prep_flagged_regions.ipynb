{
 "cells": [
  {
   "cell_type": "code",
   "execution_count": 5,
   "id": "8f7bbe6c",
   "metadata": {},
   "outputs": [
    {
     "name": "stdout",
     "output_type": "stream",
     "text": [
      "NucFreq/VerityMap flagged regions:  3623\n"
     ]
    }
   ],
   "source": [
    "import pathlib as pl\n",
    "import pandas as pd\n",
    "import hashlib as hl\n",
    "import collections as col\n",
    "import itertools as itt\n",
    "\n",
    "import matplotlib as mpl\n",
    "import matplotlib.pyplot as plt\n",
    "\n",
    "annotated = pl.Path(\"/home/ebertp/work/projects/sig_chry/paper/data/error_regions/annotated\")\n",
    "\n",
    "CURRENT_ERROR_SAMPLES = ['HG03456', 'NA24385']\n",
    "QC_SAMPLES = ['HG02666', 'HG01457', 'NA18989', 'NA19384']\n",
    "\n",
    "SKIP_SAMPLES = CURRENT_ERROR_SAMPLES + QC_SAMPLES\n",
    "\n",
    "merged = []\n",
    "for tsv_file in annotated.glob(\"*.tsv\"):\n",
    "    if tsv_file.name.split(\".\")[0] in SKIP_SAMPLES:\n",
    "        continue\n",
    "    df = pd.read_csv(tsv_file, sep=\"\\t\", header=0)\n",
    "    merged.append(df)\n",
    "merged = pd.concat(merged, ignore_index=False, axis=0)\n",
    "merged.fillna(-1, inplace=True)\n",
    "merged.reset_index(drop=True, inplace=True)\n",
    "assert not pd.isnull(merged).any(axis=0).any()\n",
    "\n",
    "snvs = merged.loc[merged[\"software\"].isin([\"DeepVariant\", \"PEPPER\"]), :].copy()\n",
    "regions = merged.loc[merged[\"software\"].isin([\"NucFreq\", \"VerityMap\"]), :].copy()\n",
    "\n",
    "origins = regions.loc[regions[\"region_type\"] == \"origin\", :]\n",
    "print(\"NucFreq/VerityMap flagged regions: \", origins.shape[0])\n"
   ]
  }
 ],
 "metadata": {
  "kernelspec": {
   "display_name": "Python 3 (ipykernel)",
   "language": "python",
   "name": "python3"
  },
  "language_info": {
   "codemirror_mode": {
    "name": "ipython",
    "version": 3
   },
   "file_extension": ".py",
   "mimetype": "text/x-python",
   "name": "python",
   "nbconvert_exporter": "python",
   "pygments_lexer": "ipython3",
   "version": "3.9.15"
  }
 },
 "nbformat": 4,
 "nbformat_minor": 5
}
