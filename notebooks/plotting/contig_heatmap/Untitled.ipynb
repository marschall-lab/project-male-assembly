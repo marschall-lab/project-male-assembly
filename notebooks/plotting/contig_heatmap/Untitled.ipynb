{
 "cells": [
  {
   "cell_type": "code",
   "execution_count": 5,
   "id": "8e182df8",
   "metadata": {},
   "outputs": [
    {
     "name": "stdout",
     "output_type": "stream",
     "text": [
      "None\n",
      "      loo  bar  foo\n",
      "rows               \n",
      "b       2    3    1\n",
      "a       5    6    4\n"
     ]
    }
   ],
   "source": [
    "import pandas as pd\n",
    "\n",
    "columns = ['foo', 'loo', 'bar']\n",
    "sort_order = {\n",
    "    'loo': 0,\n",
    "    'bar': 1,\n",
    "    'foo': 2\n",
    "}\n",
    "index = pd.Index(['b', 'a'], name='rows')\n",
    "\n",
    "def _sort_index(pd_index):\n",
    "    ordered_idx = sorted([(sort_order[i], i) for i in pd_index])\n",
    "    new_idx = pd.Index(\n",
    "        [t[1] for t in ordered_idx],\n",
    "        name='columns'\n",
    "    )\n",
    "    return new_idx\n",
    "\n",
    "df = pd.DataFrame(\n",
    "    [[1,2,3], [4,5,6]],\n",
    "    index=index,\n",
    "    columns=columns\n",
    ")\n",
    "print(df.sort_index(axis=1, key=_sort_index, inplace=True))\n"
   ]
  }
 ],
 "metadata": {
  "kernelspec": {
   "display_name": "Python 3 (ipykernel)",
   "language": "python",
   "name": "python3"
  },
  "language_info": {
   "codemirror_mode": {
    "name": "ipython",
    "version": 3
   },
   "file_extension": ".py",
   "mimetype": "text/x-python",
   "name": "python",
   "nbconvert_exporter": "python",
   "pygments_lexer": "ipython3",
   "version": "3.8.13"
  }
 },
 "nbformat": 4,
 "nbformat_minor": 5
}
