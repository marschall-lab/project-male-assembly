{
 "cells": [
  {
   "cell_type": "code",
   "execution_count": 16,
   "id": "5268a649",
   "metadata": {},
   "outputs": [
    {
     "name": "stdout",
     "output_type": "stream",
     "text": [
      "NucFreq/VerityMap flagged regions:  3623\n",
      "3623\n",
      "12573028\n",
      "===\n",
      "328\n",
      "9862179\n",
      "2330\n",
      "5739743\n"
     ]
    },
    {
     "ename": "RuntimeError",
     "evalue": "No active exception to reraise",
     "output_type": "error",
     "traceback": [
      "\u001b[0;31m---------------------------------------------------------------------------\u001b[0m",
      "\u001b[0;31mRuntimeError\u001b[0m                              Traceback (most recent call last)",
      "Cell \u001b[0;32mIn [16], line 21\u001b[0m\n\u001b[1;32m     17\u001b[0m \u001b[38;5;28mprint\u001b[39m(is_singleton\u001b[38;5;241m.\u001b[39mshape[\u001b[38;5;241m0\u001b[39m])\n\u001b[1;32m     18\u001b[0m \u001b[38;5;28mprint\u001b[39m((is_singleton[\u001b[38;5;124m\"\u001b[39m\u001b[38;5;124mend\u001b[39m\u001b[38;5;124m\"\u001b[39m] \u001b[38;5;241m-\u001b[39m is_singleton[\u001b[38;5;124m\"\u001b[39m\u001b[38;5;124mstart\u001b[39m\u001b[38;5;124m\"\u001b[39m])\u001b[38;5;241m.\u001b[39msum())\n\u001b[0;32m---> 21\u001b[0m \u001b[38;5;28;01mraise\u001b[39;00m\n\u001b[1;32m     23\u001b[0m is_vm_only \u001b[38;5;241m=\u001b[39m origins[\u001b[38;5;124m\"\u001b[39m\u001b[38;5;124mnum_nucfreq_regions\u001b[39m\u001b[38;5;124m\"\u001b[39m] \u001b[38;5;241m<\u001b[39m \u001b[38;5;241m1\u001b[39m\n\u001b[1;32m     25\u001b[0m has_vm \u001b[38;5;241m=\u001b[39m origins[\u001b[38;5;124m\"\u001b[39m\u001b[38;5;124mnum_veritymap_regions\u001b[39m\u001b[38;5;124m\"\u001b[39m] \u001b[38;5;241m>\u001b[39m \u001b[38;5;241m0\u001b[39m\n",
      "\u001b[0;31mRuntimeError\u001b[0m: No active exception to reraise"
     ]
    }
   ],
   "source": [
    "%run prep_flagged_regions.ipynb\n",
    "\n",
    "import matplotlib as mpl\n",
    "import matplotlib.pyplot as plt\n",
    "\n",
    "print(origins.shape[0])\n",
    "print((origins[\"end\"] - origins[\"start\"]).sum())\n",
    "print('===')\n",
    "singletons = (origins[\"cluster_id\"] == \"singleton\").sum()\n",
    "\n",
    "is_clustered = origins.loc[origins[\"cluster_id\"] != \"singleton\", :].copy()\n",
    "is_clustered = is_clustered.drop_duplicates(\"cluster_id\")\n",
    "print(is_clustered.shape[0])\n",
    "print(is_clustered[\"cluster_span\"].sum())\n",
    "\n",
    "is_singleton = origins.loc[origins[\"cluster_id\"] == \"singleton\", :].copy()\n",
    "print(is_singleton.shape[0])\n",
    "print((is_singleton[\"end\"] - is_singleton[\"start\"]).sum())\n",
    "\n",
    "\n",
    "raise\n",
    "\n",
    "is_vm_only = origins[\"num_nucfreq_regions\"] < 1\n",
    "\n",
    "has_vm = origins[\"num_veritymap_regions\"] > 0\n",
    "has_nf = origins[\"num_nucfreq_regions\"] > 0\n",
    "\n",
    "vm_plus_snv = origins.loc[is_clustered & is_vm_only, :]\n",
    "print(sorted(set(vm_plus_snv[\"sample\"])))\n",
    "\n",
    "print(vm_plus_snv.loc[vm_plus_snv[\"sample\"] == \"HG03009\", :])\n",
    "\n",
    "print(vm_plus_snv.shape[0])\n",
    "\n",
    "mixed = origins.loc[has_vm & has_nf, :]\n",
    "print(mixed.shape[0])\n",
    "\n",
    "\n",
    "fig, ax = plt.subplots(figsize=(10,10))\n",
    "\n",
    "low = \".\"\n",
    "mid = \"x\"\n",
    "high = \"o\"\n",
    "\n",
    "colors = [\"grey\", \"blue\", \"red\"]\n",
    "markers = [low, mid, high]\n",
    "boundaries = [(0, 1), (1, 2), (2, 1000)]\n",
    "    \n",
    "for (lo,hi), mrk, color in zip(boundaries, markers, colors):\n",
    "    get_lo = vm_plus_snv[\"snv_density_kbp\"] >= lo\n",
    "    get_hi = vm_plus_snv[\"snv_density_kbp\"] < hi\n",
    "    sub = vm_plus_snv.loc[get_lo & get_hi, :]\n",
    "    if sub.empty:\n",
    "        print(\"empty\")\n",
    "    ax.scatter(\n",
    "        sub[\"hifi_MQ0_mean_cov_pct\"],\n",
    "        sub[\"ont_MQ0_mean_cov_pct\"],\n",
    "        color=color,\n",
    "        s=50,\n",
    "        marker=mrk,\n",
    "        label=f\"SNV desity <{hi}\"\n",
    "    )"
   ]
  }
 ],
 "metadata": {
  "kernelspec": {
   "display_name": "Python 3 (ipykernel)",
   "language": "python",
   "name": "python3"
  },
  "language_info": {
   "codemirror_mode": {
    "name": "ipython",
    "version": 3
   },
   "file_extension": ".py",
   "mimetype": "text/x-python",
   "name": "python",
   "nbconvert_exporter": "python",
   "pygments_lexer": "ipython3",
   "version": "3.9.15"
  }
 },
 "nbformat": 4,
 "nbformat_minor": 5
}
