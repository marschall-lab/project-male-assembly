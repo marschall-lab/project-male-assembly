{
 "cells": [
  {
   "cell_type": "code",
   "execution_count": 37,
   "id": "d56b5edb",
   "metadata": {},
   "outputs": [
    {
     "name": "stdout",
     "output_type": "stream",
     "text": [
      "same:  chrY.01-23.01.PAR1-HET3_Yq.RV.unassigned-0000904.NA19317.322400.326200\n",
      "NA19317.HIFIRW.ONTUL.na.chrY.flagged-all.bed\n",
      "---\n",
      "same:  chrY.01-21.01.PAR1-AMPL7.RV.unassigned-0000811.NA19331.323000.323400\n",
      "NA19331.HIFIRW.ONTUL.na.chrY.flagged-all.bed\n",
      "---\n",
      "same:  chrY.01-21.01.PAR1-AMPL7.RV.unassigned-0000811.NA19331.323800.327000\n",
      "NA19331.HIFIRW.ONTUL.na.chrY.flagged-all.bed\n",
      "---\n"
     ]
    }
   ],
   "source": [
    "import pathlib as pl\n",
    "import pandas as pd\n",
    "import collections as col\n",
    "import math as ma\n",
    "import hashlib as hl\n",
    "\n",
    "label_file = pl.Path(\n",
    "    \"/home/ebertp/work/code/marschall-lab/project-male-assembly/data\",\n",
    "    \"veritymap_expert-label.tsv\"\n",
    ")\n",
    "\n",
    "PAR1_SAMPLES = [\n",
    "    \"HG01890\", \"HC02666\", \"HC19384\", \"NA19331\",\n",
    "    \"HG02011\", \"HG03371\", \"NA19317\", \"HC18989\",\n",
    "    \"HG03009\", \"HG00358\"\n",
    "]\n",
    "\n",
    "labels = dict()\n",
    "\n",
    "with open(label_file, \"r\") as table:\n",
    "    for line in table:\n",
    "        if not line.strip() or line.startswith(\"contig\"):\n",
    "            continue\n",
    "        c, s, e = line.strip().split()[:3]\n",
    "        name = f\"{c}.{s}.{e}\"\n",
    "        name_id = hl.md5(name.encode(\"utf-8\")).hexdigest()\n",
    "        labels[name_id] = name\n",
    "        \n",
    "all_bed_files = pl.Path(\n",
    "    \"/home/ebertp/work/projects/sig_chry/paper/data/error_regions/sample_beds\"\n",
    ").glob(\"*.flagged-all.bed\")\n",
    "\n",
    "tool_counts = col.Counter()\n",
    "par_flagged = []\n",
    "for bed_file in all_bed_files:\n",
    "    sample = bed_file.name.split(\".\")[0]\n",
    "    if sample not in PAR1_SAMPLES:\n",
    "        continue\n",
    "    with open(bed_file, \"r\") as table:\n",
    "        for line in table:\n",
    "            if not line.strip() or line.startswith(\"#\"):\n",
    "                continue\n",
    "            c, s, e, n, tool = line.strip().split()[:5]\n",
    "            if \"PAR1\" not in c:\n",
    "                continue\n",
    "            if int(e) - int(s) < 2:\n",
    "                continue\n",
    "            if int(s) > 2.5e6:\n",
    "                continue\n",
    "            par_flagged.append(\n",
    "                    \"\\t\".join([sample, c, s, e, n, tool])\n",
    "            )\n",
    "            name = f\"{c}.{s}.{e}\"\n",
    "            name_id = hl.md5(name.encode(\"utf-8\")).hexdigest()\n",
    "            try:\n",
    "                known = labels[name_id]\n",
    "                print(\"same: \", known)\n",
    "                print(bed_file.name)\n",
    "                print('---')\n",
    "            except KeyError:\n",
    "                continue\n",
    "\n",
    "with open(\"par_regions.tsv\", \"w\") as dump:\n",
    "    _ = dump.write(\"\\n\".join(par_flagged) + \"\\n\")"
   ]
  }
 ],
 "metadata": {
  "kernelspec": {
   "display_name": "Python 3 (ipykernel)",
   "language": "python",
   "name": "python3"
  },
  "language_info": {
   "codemirror_mode": {
    "name": "ipython",
    "version": 3
   },
   "file_extension": ".py",
   "mimetype": "text/x-python",
   "name": "python",
   "nbconvert_exporter": "python",
   "pygments_lexer": "ipython3",
   "version": "3.9.15"
  }
 },
 "nbformat": 4,
 "nbformat_minor": 5
}
